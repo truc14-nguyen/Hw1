{
  "cells": [
    {
      "cell_type": "markdown",
      "metadata": {
        "id": "view-in-github",
        "colab_type": "text"
      },
      "source": [
        "<a href=\"https://colab.research.google.com/github/truc14-nguyen/Hw1/blob/main/Final_nh%C3%B3m_13.ipynb\" target=\"_parent\"><img src=\"https://colab.research.google.com/assets/colab-badge.svg\" alt=\"Open In Colab\"/></a>"
      ]
    },
    {
      "cell_type": "markdown",
      "metadata": {
        "id": "Jmnd-eYnmByq"
      },
      "source": [
        "# NHÓM 13: \n",
        "**- Ngô Thuỳ Vân** - MSSV:050608200760\n",
        "\n",
        "**- Nguyễn Thị Thanh Trúc** - MSSV:050608200181\n",
        "\n",
        "**- Nguyễn Lê Phương Vy** - MSSV:050608200781"
      ]
    },
    {
      "cell_type": "markdown",
      "source": [
        "Dữ liệu :https://drive.google.com/drive/u/0/folders/1QvTDHdQjy21MmYcQ8nQD-ig36BQakLP3"
      ],
      "metadata": {
        "id": "jCwdCTUnbu7v"
      }
    },
    {
      "cell_type": "markdown",
      "metadata": {
        "id": "LGrx9AcLUEhW"
      },
      "source": [
        "# CÂU 1: SPARK\n",
        "\n",
        "\n",
        "\n"
      ]
    },
    {
      "cell_type": "code",
      "execution_count": null,
      "metadata": {
        "colab": {
          "base_uri": "https://localhost:8080/"
        },
        "id": "MTDodQC8QiMP",
        "outputId": "5ab5347c-0403-4d88-c783-460b61f81894"
      },
      "outputs": [
        {
          "output_type": "stream",
          "name": "stdout",
          "text": [
            "Looking in indexes: https://pypi.org/simple, https://us-python.pkg.dev/colab-wheels/public/simple/\n",
            "Requirement already satisfied: pyspark in /usr/local/lib/python3.9/dist-packages (3.3.2)\n",
            "Requirement already satisfied: py4j==0.10.9.5 in /usr/local/lib/python3.9/dist-packages (from pyspark) (0.10.9.5)\n",
            "openjdk-8-jdk-headless is already the newest version (8u362-ga-0ubuntu1~20.04.1).\n",
            "0 upgraded, 0 newly installed, 0 to remove and 23 not upgraded.\n"
          ]
        }
      ],
      "source": [
        "#cài đặt Spark \n",
        "!pip install pyspark\n",
        "!pip install -U -q PyDrive\n",
        "!apt install openjdk-8-jdk-headless -qq"
      ]
    },
    {
      "cell_type": "code",
      "execution_count": null,
      "metadata": {
        "id": "BkY8IFMDQvjX"
      },
      "outputs": [],
      "source": [
        "#import các thư viện cần dùng\n",
        "import os\n",
        "os.environ[\"JAVA_HOME\"] = \"/usr/lib/jvm/java-8-openjdk-amd64\""
      ]
    },
    {
      "cell_type": "code",
      "execution_count": null,
      "metadata": {
        "id": "3tW94RNsQzLK"
      },
      "outputs": [],
      "source": [
        "from pydrive.auth import GoogleAuth\n",
        "from pydrive.drive import GoogleDrive\n",
        "from google.colab import auth\n",
        "from oauth2client.client import GoogleCredentials\n",
        "\n",
        "auth.authenticate_user()\n",
        "gauth = GoogleAuth()\n",
        "gauth.credentials = GoogleCredentials.get_application_default()\n",
        "drive = GoogleDrive(gauth)"
      ]
    },
    {
      "cell_type": "code",
      "execution_count": null,
      "metadata": {
        "colab": {
          "base_uri": "https://localhost:8080/"
        },
        "id": "DJc72FZqQ3cT",
        "outputId": "5d413075-47ce-47b6-b8b3-f45a6db93f18"
      },
      "outputs": [
        {
          "output_type": "stream",
          "name": "stdout",
          "text": [
            "Drive already mounted at /content/drive; to attempt to forcibly remount, call drive.mount(\"/content/drive\", force_remount=True).\n"
          ]
        }
      ],
      "source": [
        "from google.colab import drive\n",
        "drive.mount('/content/drive')\n",
        "# Avoids scroll-in-the-scroll in the entire Notebook\n",
        "from IPython.display import Javascript\n",
        "def resize_colab_cell():\n",
        "  display(Javascript('google.colab.output.setIframeHeight(0, true, {maxHeight: 400})'))\n",
        "get_ipython().events.register('pre_run_cell', resize_colab_cell)"
      ]
    },
    {
      "cell_type": "code",
      "execution_count": null,
      "metadata": {
        "colab": {
          "base_uri": "https://localhost:8080/",
          "height": 17
        },
        "id": "43m22NY9Q7Wk",
        "outputId": "7c0ffc57-aaa8-41be-9059-934a0c730ef6"
      },
      "outputs": [
        {
          "output_type": "display_data",
          "data": {
            "text/plain": [
              "<IPython.core.display.Javascript object>"
            ],
            "application/javascript": [
              "google.colab.output.setIframeHeight(0, true, {maxHeight: 400})"
            ]
          },
          "metadata": {}
        }
      ],
      "source": [
        "import pandas as pd\n",
        "import numpy as np\n",
        "import matplotlib.pyplot as plt\n",
        "import itertools\n",
        "%matplotlib inline\n",
        "import pyspark\n",
        "from pyspark.sql import *\n",
        "from pyspark.sql.functions import *\n",
        "from pyspark import SparkContext, SparkConf\n",
        "#tạo session\n",
        "conf = SparkConf().set(\"spark.ui.port\", \"4050\")\n",
        "#tạo context\n",
        "sc = pyspark.SparkContext(conf=conf)\n",
        "spark = SparkSession.builder.getOrCreate()"
      ]
    },
    {
      "cell_type": "code",
      "execution_count": null,
      "metadata": {
        "colab": {
          "base_uri": "https://localhost:8080/",
          "height": 17
        },
        "id": "Ag6UCpyEQ-H6",
        "outputId": "551cd068-6533-477b-df5f-9fa113cdf988"
      },
      "outputs": [
        {
          "output_type": "display_data",
          "data": {
            "text/plain": [
              "<IPython.core.display.Javascript object>"
            ],
            "application/javascript": [
              "google.colab.output.setIframeHeight(0, true, {maxHeight: 400})"
            ]
          },
          "metadata": {}
        }
      ],
      "source": [
        "def line_to_friend_ownership(line):\n",
        "    split = line.split()\n",
        "    user_id = int(split[0])\n",
        "    if len(split) == 1:\n",
        "        friends = []\n",
        "    else:\n",
        "        friends = list(map(lambda x: int(x), split[1].split(',')))\n",
        "    return user_id, friends\n",
        "\n",
        "def friend_ownership_to_connection(f_o):\n",
        "    user_id = f_o[0]\n",
        "    friends = f_o[1]\n",
        "    connections = []\n",
        "    for friend_id in friends:\n",
        "        key = (user_id, friend_id)\n",
        "        if user_id > friend_id:\n",
        "            key = (friend_id, user_id)\n",
        "        connections.append((key, 0))  #  # họ là bạn, value=0\n",
        "    for friend_pair in itertools.combinations(friends, 2):\n",
        "        friend_0 = friend_pair[0]\n",
        "        friend_1 = friend_pair[1]\n",
        "        key = (friend_0, friend_1)\n",
        "        if friend_0 > friend_1:\n",
        "            key = (friend_1, friend_0)\n",
        "        connections.append((key, 1))  # họ có bạn chung, value=1\n",
        "    return connections\n",
        "\n",
        "def mutual_friend_count_to_recommendation(f):\n",
        "    pair = f[0]\n",
        "    friend0 = pair[0]\n",
        "    friend1 = pair[1]\n",
        "    noMutFriends = f[1]\n",
        "    rec0 = (friend0, (friend1, noMutFriends))\n",
        "    rec1 = (friend1, (friend0, noMutFriends))\n",
        "    return [rec0, rec1]\n",
        "\n",
        "def recommendation_to_sorted_truncated(recs):\n",
        "    recs.sort(key=lambda x: (-x[1], x[0]))\n",
        "    return list(map(lambda x: x[0], recs))[:10]"
      ]
    },
    {
      "cell_type": "code",
      "execution_count": null,
      "metadata": {
        "colab": {
          "base_uri": "https://localhost:8080/",
          "height": 17
        },
        "id": "7PINIqIpRCnb",
        "outputId": "a0b3b074-d188-4343-ec7b-ebb0362d67c5"
      },
      "outputs": [
        {
          "output_type": "display_data",
          "data": {
            "text/plain": [
              "<IPython.core.display.Javascript object>"
            ],
            "application/javascript": [
              "google.colab.output.setIframeHeight(0, true, {maxHeight: 400})"
            ]
          },
          "metadata": {}
        }
      ],
      "source": [
        "# đọc dữ liệu dừ file\n",
        "lines = sc.textFile(\"/content/drive/MyDrive/bigdata/Data/soc-LiveJournal1Adj.txt\")\n",
        "\n",
        "\n",
        "friend_ownership = lines.map(line_to_friend_ownership).filter(lambda friend: '' != friend[1])\n",
        "\n",
        "#take 1000 samples for testing\n",
        "\n",
        "# Map friend ownerships to instances of ((user_id, friend_id), VALUE).\n",
        "# VALUE = 0 => các cặp đã là bạn bè.\n",
        "# VALUE = 1 => các cặp có bạn chung.\n",
        "friend_edges = friend_ownership.flatMap(friend_ownership_to_connection)\n",
        "friend_edges.cache()\n",
        "\n",
        "# lọc ra các cặp đã là bạn\n",
        "mutual_friend = friend_edges.groupByKey() \\\n",
        "    .filter(lambda edge: 0 not in edge[1]) \\\n",
        "    .flatMap(lambda x: [(x[0],item) for item in x[1]]) # flat it to count total mutual friends No; use map directly causes bugs\n",
        "\n",
        "# đếm những người bạn chung bằng cách cộng các giá trị\n",
        "mutual_friend_counts = mutual_friend.reduceByKey( lambda x,y : x+y)\n",
        "\n",
        "# tạo các đề xuất, nhóm chúng theo key, sau đó sắp xếp  \n",
        "recommendations = mutual_friend_counts.flatMap(mutual_friend_count_to_recommendation).groupByKey() \n",
        "\n",
        "# # 10 người bạn được đề xuất cao nhất.\n",
        "recommendations10 = recommendations.map(lambda m: (m[0], recommendation_to_sorted_truncated(list(m[1])))).sortByKey() \n",
        "\n",
        "# Include in your writeup the recommendations for the users with following user IDs: 924, 8941, 8942, 9019, 9020, 9021, 9022, 9990, 9992, 9993.\n",
        "results = recommendations10.filter(lambda recommendations: recommendations[0] in [924, 8941, 8942, 9019, 9020, 9021, 9022, 9990, 9992, 9993])"
      ]
    },
    {
      "cell_type": "code",
      "execution_count": null,
      "metadata": {
        "id": "rgtS40OLRE1m",
        "colab": {
          "base_uri": "https://localhost:8080/",
          "height": 196
        },
        "outputId": "84618af2-7e92-44f3-bd9b-2da0d9e9561b"
      },
      "outputs": [
        {
          "output_type": "display_data",
          "data": {
            "text/plain": [
              "<IPython.core.display.Javascript object>"
            ],
            "application/javascript": [
              "google.colab.output.setIframeHeight(0, true, {maxHeight: 400})"
            ]
          },
          "metadata": {}
        },
        {
          "output_type": "execute_result",
          "data": {
            "text/plain": [
              "[(924, [439, 2409, 6995, 11860, 15416, 43748, 45881]),\n",
              " (8941, [8943, 8944, 8940]),\n",
              " (8942, [8939, 8940, 8943, 8944]),\n",
              " (9019, [9022, 317, 9023]),\n",
              " (9020, [9021, 9016, 9017, 9022, 317, 9023]),\n",
              " (9021, [9020, 9016, 9017, 9022, 317, 9023]),\n",
              " (9022, [9019, 9020, 9021, 317, 9016, 9017, 9023]),\n",
              " (9990, [13134, 13478, 13877, 34299, 34485, 34642, 37941]),\n",
              " (9992, [9987, 9989, 35667, 9991]),\n",
              " (9993, [9991, 13134, 13478, 13877, 34299, 34485, 34642, 37941])]"
            ]
          },
          "metadata": {},
          "execution_count": 17
        }
      ],
      "source": [
        "results.collect()"
      ]
    },
    {
      "cell_type": "markdown",
      "metadata": {
        "id": "d0XCVMrAU4bs"
      },
      "source": [
        "# CÂU 2\n"
      ]
    },
    {
      "cell_type": "markdown",
      "metadata": {
        "id": "YG7cWvN9m7gC"
      },
      "source": [
        " **a) Một nhược điểm của việc sử dụng độ tin cậy (Confidence) đó là bỏ qua Pr(B). Đây là nhược điểm, vì sao? Giải thích tại sao Lift và Conviction không bị nhược điểm này?**\n",
        "\n",
        "Nhược điểm: Confidence có sự bất cập là vì nó đã bỏ qua xác suất của Pr(B). Đôi khi Confidence có kết quả cao do tập mục A của luật kết hợp tương đối cao (ví dụ một cửa hàng bán quá nhiều A nhưng B lại ít thì Confidence tương đối cao), mà không phải do có mối quan hệ giữa 2 tập mục A và B. \n",
        "\n",
        "Theo đề bài, conf(A → B) = Pr(B|A). Trong đó, Pr(B|A) là xác suất có điều kiện của việc tìm thấy B nếu có A, công thức Pr(B|A) = Pr(A ∩ B)/ Pr(A). Ví dụ ta có luật kết hợp A -> B,  một cửa hàng bán 20 mặt hàng A và 100 mặt hàng B trong tổng số 1000 mặt hàng. Nhìn vào tử số thấy được Pr(A ∩ B) = 20/1000 và mẫu số Pr(A) = 20/1000, nên suy ra Confidence của luật kết hợp này bằng 1 nhưng nó lại không thể hiện mối quan hệ có ý nghĩa giữa mặt hàng A và mặt hàng B, mặt khác nó chỉ cho thấy B xuất hiện nhiều hơn A, mà Pr(B) = 100/1000 đã bị bỏ qua trong công thức. \n",
        "\n",
        "Trong khi Lift và Conviction lại có xác suất của cả 2 tập mục A và B trong công thức lift(A → B) = conf(A → B) /S(B) (conf có Pr(A) và S(B) = Pr(B) và tương tự với công thức conv); conv(A → B) = 1 − S(B)/ 1 − conf(A → B). Lấy một ví dụ minh họa về Lift và số liệu từ câu a) thì ta được Lift = 10, tức tỉ lệ 10:1, chứng tỏ A và B có mối quan hệ liên quan với nhau. Điều này giúp cho công thức có thể tránh được vấn đề thiên vị so với Confidence (Confidence đã loại bỏ Pr(B) khỏi công thức).  \n"
      ]
    },
    {
      "cell_type": "markdown",
      "metadata": {
        "id": "EjBwu_eUplod"
      },
      "source": [
        "**b) Một công thức là đối xứng nếu luật (A → B) = luật (B → A). Công thức nào được trình bày ở đây là đối xứng? Đối với mỗi công thức, hãy chứng minh cho thấy công thức đó là đối xứng hoặc một ví dụ biện chứng cho thấy công thức đó không đối xứng.**\n",
        "\n",
        "Lift is symmetrical. Confidence and conviction are not since confidence and conviction are directional but lift is not. \n",
        "1. lift(A→B) = lift(B→A) = Pr(A ∩ B)/ Pr(A) x Pr(B). \n",
        "2. conf(A→B) = Pr(B|A) and conf(B→A) = Pr(A|B).Pr(A|B) and Pr(B|A) might be different.\n",
        "3. conv is based on conf and is directional.\n",
        "Example:\n",
        "If we have baskets AB, AC, AD, then S(A) = 3/3, S(B) = 1/3, and Pr(A, B) = 1/3.\n",
        "Then conf(A→B)=Pr(B|A) ≠ Pr(A|B)= conf(B→A) since: ⅓: 3/3  ≠  ⅓:1/3.\n",
        "Similarly, conv(A→B)= 1−S(B)/ 1−conf(A→B) khác 1−S(A)/ 1−conf(B→A)= conv(B→A) since: 1−1/3:1−1/2= 4/3 khác 1−2/3: 1−1= inf\n",
        "\n",
        "\n",
        "Lift là đối xứng (luật A→B = luật B→A), còn confidence và conviction thì không phải. Ta suy ra từ công thức: \n",
        "\n",
        "1. lift(A→B) = lift(B→A) =  Pr(A ∩ B)/ Pr(A) x Pr(B). \n",
        "2. conf(A→B) = Pr(B|A) và conf(B→A) = Pr(A|B). Pr(A|B) và Pr(B|A) có thể khác nhau.\n",
        "3. conv dựa trên conf và có tính định hướng.\n",
        "\n",
        "Ví dụ:\n",
        "Nếu ta có các rổ AB, AC, AD, AE thì S(A) = 4/4, S(B) = 1/4 và Pr(A ∩ B) = 1/4 \n",
        "Khi đó conf(A→B) = Pr(B|A) ≠ Pr(A|B) = conf(B→A) vì: 1/4: 4/4  ≠ 1/4:1/4.\n",
        "Tương tự, conv(A→B) = 1−S(B)/ 1−conf(A→B) ≠ 1−S(A)/ 1−conf(B→A) = conv(B→A) vì: 1 −1/4 : 1−1/4 = 1 ≠ 1− 4/4 : 1−1= inf. Vậy nên, chỉ có công thức Lift thỏa mãn được luật A→B = luật B→A.\n",
        "\n",
        "\n"
      ]
    },
    {
      "cell_type": "markdown",
      "metadata": {
        "id": "3JOGkUyRrKbz"
      },
      "source": [
        "**c) Hàm ý hoàn hảo là các quy tắc giữ đúng 100% thời gian (hoặc tương đương, xác suất có điều kiện liên quan là 1). Một công thức được thỏa mãn nếu nó đạt đến giá trị tối đa có thể đạt được cho tất cả các hàm ý hoàn hảo. Điều này giúp dễ dàng xác định các công thức tốt nhất. Công thức nào trong số các công thức trên có tính chất này? Bạn có thể bỏ qua 0/0 nhưng không thể bỏ qua các trường hợp vô cực khác. Ngoài ra, bạn có thể dễ dàng giải thích bằng một ví dụ.**\n",
        "Conviction and confidence are desirable while lift is not. If B occurs every\n",
        "time A occurs (i.e, Pr(B|A) = 1) then\n",
        "1. conf(A→B) = 1\n",
        "2. conv(A→B)→infinity\n",
        "3. lift(A→B) depends on the value of Pr(B)and may differ as B might occur in baskets which do not have A.\n",
        "Example:\n",
        "If we have baskets AB, AB, CD, EF, then Pr(B|A) = 1,S(B) = 1/2,Pr(D|C) = 1, and S(D) = 1/4.\n",
        "Then lift(A→B) = 1 : 1/2= 2 and lift(C→D) = 1:1/4= 4. Although both rules are 100% rules, they have different lift scores.\n",
        "\n",
        "Conviction và confidence thỏa mãn được trong khi lift thì không. Nếu B xảy ra mỗi thời điểm A xảy ra (nghĩa là Pr(B|A) = 1) thì: \n",
        "1. conf(A→B) = 1\n",
        "2. conv(A→B)→infinity\n",
        "3. lift(A→B) phụ thuộc vào giá trị của Pr(B) và có thể khác vì B có thể xảy ra trong các giỏ không có A.\n",
        "Ví dụ:\n",
        "Nếu chúng ta có các rổ AB, AB, CD, EF thì Pr(B|A) = 1, S(B) = 1/2, Pr(D|C) = 1, và S(D) = 1/4.\n",
        "Sau đó, lift(A→B) = 1 : 1/2= 2 và lift(C→D) = 1:1/4= 4. Mặc dù cả hai quy tắc đều là quy tắc 100% nhưng chúng có tỉ lệ lift khác nhau.\n"
      ]
    },
    {
      "cell_type": "code",
      "execution_count": null,
      "metadata": {
        "id": "7iop0vgVU9Ou",
        "colab": {
          "base_uri": "https://localhost:8080/",
          "height": 17
        },
        "outputId": "34111599-2d3b-4495-8ffd-78d0f9278fc7"
      },
      "outputs": [
        {
          "output_type": "display_data",
          "data": {
            "text/plain": [
              "<IPython.core.display.Javascript object>"
            ],
            "application/javascript": [
              "google.colab.output.setIframeHeight(0, true, {maxHeight: 400})"
            ]
          },
          "metadata": {}
        }
      ],
      "source": [
        "from pyspark.sql import SparkSession\n",
        "from functools import partial\n",
        "from itertools import combinations"
      ]
    },
    {
      "cell_type": "markdown",
      "source": [
        "**Câu d:**"
      ],
      "metadata": {
        "id": "TIob5ShWcWxR"
      }
    },
    {
      "cell_type": "code",
      "execution_count": null,
      "metadata": {
        "id": "zfjkNpBLoWdp",
        "colab": {
          "base_uri": "https://localhost:8080/",
          "height": 303
        },
        "outputId": "1736c16b-9d38-4cc0-8030-e9d4e28aa656"
      },
      "outputs": [
        {
          "output_type": "display_data",
          "data": {
            "text/plain": [
              "<IPython.core.display.Javascript object>"
            ],
            "application/javascript": [
              "google.colab.output.setIframeHeight(0, true, {maxHeight: 400})"
            ]
          },
          "metadata": {}
        },
        {
          "output_type": "stream",
          "name": "stdout",
          "text": [
            "+--------------------+------------------+\n",
            "|                  _1|                _2|\n",
            "+--------------------+------------------+\n",
            "|{DAI93865, FRO40251}|               1.0|\n",
            "|{GRO85051, FRO40251}| 0.999176276771005|\n",
            "|{GRO38636, FRO40251}|0.9906542056074766|\n",
            "|{ELE12951, FRO40251}|0.9905660377358491|\n",
            "|{DAI88079, FRO40251}|0.9867256637168141|\n",
            "|{FRO92469, FRO40251}| 0.983510011778563|\n",
            "|{DAI43868, SNA82528}| 0.972972972972973|\n",
            "|{DAI23334, DAI62779}|0.9545454545454546|\n",
            "|{ELE92920, DAI62779}|0.7326649958228906|\n",
            "|{DAI53152, FRO40251}| 0.717948717948718|\n",
            "+--------------------+------------------+\n",
            "only showing top 10 rows\n",
            "\n"
          ]
        }
      ],
      "source": [
        "\n",
        "if __name__=='__main__':\n",
        "    spark = SparkSession.builder.getOrCreate()\n",
        "    sc = spark.sparkContext\n",
        "    lines=sc.textFile('/content/drive/MyDrive/bigdata/Data/browsing.txt')\n",
        "\n",
        "    frequent_items=lines.flatMap(lambda l:l.split()).map(lambda ele:(ele,1)).\\\n",
        "        reduceByKey(lambda e1,e2:e1+e2).filter(lambda x:x[1]>=100)\n",
        "\n",
        "    frequent_itemset=frequent_items.collectAsMap()\n",
        "\n",
        "    frequent_pairs = lines.map(lambda l: l.split()).flatMap(partial(combinations, r=2)).map(lambda pair: sorted(pair)) \\\n",
        "        .map(lambda pair: (tuple(pair), 1)).filter(\n",
        "        lambda ele: ele[0][0] in frequent_itemset and ele[0][1] in frequent_itemset).reduceByKey(\n",
        "        lambda p1, p2: p1 + p2).filter(lambda x: x[1] >= 100)\n",
        "\n",
        "    freq_pairs_count=frequent_pairs.collectAsMap()\n",
        "\n",
        "    frequent_pairs=frequent_pairs.flatMap(lambda ele:[((ele[0][0],ele[0][1]),ele[1]),((ele[0][1],ele[0][0]),ele[1])])\n",
        "\n",
        "    frequent_pair_conf=frequent_pairs.map(lambda ele:(ele[0],float(ele[1]/frequent_itemset[ele[0][0]]))).sortBy(lambda x:-x[1])\n",
        "\n",
        "    frequent_pair_conf.toDF().show(10) "
      ]
    },
    {
      "cell_type": "markdown",
      "source": [
        "**Câu e: Top 5 rules with confidence scores** "
      ],
      "metadata": {
        "id": "1Rrpbo36cIvE"
      }
    },
    {
      "cell_type": "code",
      "execution_count": null,
      "metadata": {
        "id": "eKmi34s-rdKc",
        "colab": {
          "base_uri": "https://localhost:8080/",
          "height": 303
        },
        "outputId": "164dc2c6-edbb-4247-9fd4-7a8233a9865e"
      },
      "outputs": [
        {
          "output_type": "display_data",
          "data": {
            "text/plain": [
              "<IPython.core.display.Javascript object>"
            ],
            "application/javascript": [
              "google.colab.output.setIframeHeight(0, true, {maxHeight: 400})"
            ]
          },
          "metadata": {}
        },
        {
          "output_type": "stream",
          "name": "stdout",
          "text": [
            "+--------------------+--------+---+\n",
            "|                  _1|      _2| _3|\n",
            "+--------------------+--------+---+\n",
            "|{DAI23334, ELE92920}|DAI62779|1.0|\n",
            "|{DAI31081, GRO85051}|FRO40251|1.0|\n",
            "|{DAI55911, GRO85051}|FRO40251|1.0|\n",
            "|{DAI62779, DAI88079}|FRO40251|1.0|\n",
            "|{DAI75645, GRO85051}|FRO40251|1.0|\n",
            "|{ELE17451, GRO85051}|FRO40251|1.0|\n",
            "|{ELE20847, FRO92469}|FRO40251|1.0|\n",
            "|{ELE20847, GRO85051}|FRO40251|1.0|\n",
            "|{ELE26917, GRO85051}|FRO40251|1.0|\n",
            "|{FRO53271, GRO85051}|FRO40251|1.0|\n",
            "+--------------------+--------+---+\n",
            "only showing top 10 rows\n",
            "\n"
          ]
        }
      ],
      "source": [
        "\n",
        "triples=lines.map(lambda l:l.split()).flatMap(partial(combinations,r=3)).map(lambda triple:tuple(list(sorted(triple))))\n",
        "\n",
        "triples=triples.map(lambda triple:(triple,1)).reduceByKey(lambda t1,t2:t1+t2).filter(lambda x:x[1]>=100)\n",
        "\n",
        "freq_triples_conf=triples.flatMap(lambda ele:[(((ele[0][0],ele[0][1]),ele[0][2]),ele[1]),\n",
        "                                                  (((ele[0][0],ele[0][2]),ele[0][1]),ele[1]),\n",
        "                                                  (((ele[0][1],ele[0][2]),ele[0][0]),ele[1])])\\\n",
        ".reduceByKey(lambda t1,t2:t1+t2).map(lambda ele:(ele[0],ele[1]/freq_pairs_count[ele[0][0]])).sortBy(lambda x:(-x[1],x[0][0],x[0][1]))\\\n",
        "                        .map(lambda ele:(ele[0][0],ele[0][1],ele[1]))\n",
        "freq_triples_conf.toDF().show(10) "
      ]
    },
    {
      "cell_type": "markdown",
      "metadata": {
        "id": "ybaO_oBnr4sY"
      },
      "source": [
        "# Câu 3"
      ]
    },
    {
      "cell_type": "markdown",
      "metadata": {
        "id": "0GZa1Woesx7x"
      },
      "source": [
        "Số cột có m phần tử 1 trên tổng số n cột là ${n \\choose m}$. Số lượng cột đó mà không có số 1 trong & hàng được chọn là ${n-k \\choose m}$.\n",
        "Xác suất để chọn được cột đó là: ${n-k \\choose m}/{n \\choose m}$.\n",
        "Do đó, xác suất để đạt được \"don't know\" khi minhashing cho cột đó là 1 trên tổng số ${n \\choose m}$ trường hợp cột, tức là:\n",
        "\n",
        "\n"
      ]
    },
    {
      "cell_type": "markdown",
      "metadata": {
        "id": "RKYaMaggxau8"
      },
      "source": [
        "Số cột có m phần tử 1 trên tổng số n cột là ${n \\choose m}$. Số lượng cột đó mà không có số 1 trong & hàng được chọn là ${n-k \\choose m}$.\n",
        "Xác suất để chọn được cột đó là: $\\displaystyle\\frac{n-k \\choose m}{n \\choose m}$.\n",
        "Do đó, xác suất để đạt được \"don't know\" khi minhashing cho cột đó là 1 trên tổng số ${n \\choose m}$ trường hợp cột, tức là:\n",
        "\n",
        "P(don't know)=${\\displaystyle\\frac{(n-k) \\choose m}{n\\choose m}}$ + $\\displaystyle\\frac{(n-k)!m!(n-m)!}{m!(n-k-m)!n!}$+ $\\displaystyle\\frac{(n-k)*(n-k-1)...(n-k-m+1)} {n*(n-1)...(n-m+1)}$\n",
        "Để giới hạn xác suất này, ta có thể sử dụng bất đẳng thức AM- GM:\n",
        "$\\displaystyle\\frac{(n - k) + (n - k - 1) + \\cdots + (n - k - m + 1)}{m} \\ge \\sqrt[m]{(n - k) * (n - k - 1) \\cdots (n - k - m + 1}$\n",
        "\n",
        "Hay:\n",
        "$(n - k - m + 1)*(n - k - m + 2)\\cdots(n - k) \\le (\\displaystyle\\frac{n - k}{m})^m$ $n^m$\n",
        "\n",
        "Do đó:\n",
        "\n",
        "$P(\\text{don't know}) = \\displaystyle\\frac{(n -k)*(n -k-1)\\cdots(n -k-m + 1)}{n*(n-1)\\cdots(n-m+1)} \\le (\\displaystyle\\frac{n - k}{n})^m$\n",
        "\n",
        "Vì vậy, xác suất tối đa để đạt được \"don't know\" là $\\left(\\frac{n-k}{n}\\right)^m$.\n",
        "\n",
        "Với giá trị $e^{-10}$, ta có: $(\\displaystyle\\frac{n-k}{n})^m \\le e^{-10}$\n",
        "\n",
        "Tương đương với: $(1 - \\displaystyle\\frac{k}{n})^m \\le e^{-10}$\n",
        "\n",
        "Do $1-x \\le e^{-x}$, ta có: $x^{\\displaystyle\\frac{-km}{n}} = e^{-10}$\n",
        "\n"
      ]
    },
    {
      "cell_type": "markdown",
      "source": [
        "**c)**\n",
        "\n",
        "Câu hỏi đưa ra yêu cầu chúng ta cung cấp một ví dụ về hai cột (tương ứng với hai tập hợp) sao cho xác suất để giá trị minhash của chúng giống nhau không bằng giá trị của hệ số tương đồng Jaccard của chúng, khi ta chỉ xem xét các hoán vị tuần hoàn.\n",
        "\n",
        "Giải pháp cho câu hỏi được cung cấp như sau:\n",
        "\n",
        "(a) Hai cột (tập hợp) là:\n",
        "\n",
        "css\n",
        "Copy code\n",
        "[0 1 0]^T và [0 1 1]^T\n",
        "(b) Giá trị hệ số tương đồng Jaccard giữa S1 và S2 là:\n",
        "\n",
        "javascript\n",
        "Copy code\n",
        "J(S1, S2) = |S1 ∩ S2| / |S1 ∪ S2| = 1/2\n",
        "(c) Xác suất để một hoán vị tuần hoàn ngẫu nhiên cho giá trị minhash giống nhau cho cả S1 và S2 là:\n",
        "\n",
        "less\n",
        "Copy code\n",
        "P(minhash(S1) = minhash(S2) | cyclic permutations) = 2/3\n",
        "Giải thích:\n",
        "\n",
        "Khi chỉ xem xét các hoán vị tuần hoàn, chỉ có ba hoán vị có thể xảy ra: (1,2,3), (2,3,1), và (3,1,2). Nếu chúng ta bắt đầu chu kỳ tại hàng đầu tiên hoặc thứ hai (1 hoặc 2), giá trị minhash của S1 và S2 sẽ giống nhau. Tuy nhiên, nếu chúng ta bắt đầu chu kỳ tại hàng cuối cùng (3), giá trị minhash sẽ khác nhau. Do đó, xác suất của giá trị minhash giống nhau là 2/3."
      ],
      "metadata": {
        "id": "iq18DG1uMFbw"
      }
    },
    {
      "cell_type": "markdown",
      "metadata": {
        "id": "ZdACi65PVFK-"
      },
      "source": [
        "# CÂU 4\n",
        "\n",
        "\n"
      ]
    },
    {
      "cell_type": "markdown",
      "source": [
        "**a)**\n",
        "Trước hết, chúng ta xác định các tập hợp Wj và T như đã đề cập trong câu hỏi. Đối với mỗi hàm băm gj, tập hợp Wj chứa tất cả các điểm dữ liệu mà ánh xạ đến cùng một giá trị như điểm truy vấn z, và tập hợp T chứa tất cả các điểm dữ liệu cách z hơn cλ. Chúng ta muốn chứng minh rằng xác suất tìm thấy nhiều hơn 3L điểm dữ liệu trong phần giao giữa T và mỗi Wj là nhỏ.\n",
        "\n",
        "Giải pháp đã cho cung cấp một giới hạn trên kích thước kỳ vọng của sự giao giữa T và mỗi Wj. Cụ thể, đối với mỗi 1≤ j ≤ L, chúng ta có:\n",
        "\n",
        "Pr[x∈T∩Wj] ≤ p${k \\choose 2}$ = $\\displaystyle\\frac{1}{n}$,\n",
        "\n",
        "Điều đó có nghĩa là xác suất một điểm dữ liệu bất kỳ x nằm cùng trong T và Wj không quá $\\displaystyle\\frac{1}{n}$. Do đó, chúng ta có thể viết:\n",
        "\n",
        "E[|T ∩ Wj|] = ∑x∈A Pr[x∈T ∩ Wj] ≤ ∑x∈A Pr[x∈T] Pr[x∈Wj] ≤ pk2 = $\\displaystyle\\frac{1}{n}$.\n",
        "\n",
        "Sử dụng tính tuyến tính của kỳ vọng, chúng ta có:\n",
        " \n",
        "E[∑j=1LE[PLj=1 |T ∩ Wj|]] ≤ LE[|T ∩ Wj|] ≤ $\\displaystyle\\frac{L}{n}$.\n",
        "\n",
        "Bây giờ, chúng ta có thể áp dụng bất đẳng thức Markov để có được:\n",
        "\n",
        "Pr[∑j=1L|T ∩ Wj| > 3L] ≤ E[∑j=1L|T ∩ Wj|]/3L ≤ $\\displaystyle\\frac{1}{3}$.\n",
        "\n",
        "Do đó, xác suất tìm thấy nhiều hơn 3L điểm dữ liệu trong phần giao giữa T và mỗi Wj không quá $\\displaystyle\\frac{1}{3}$, điều đó có nghĩa là với xác suất ít nhất là $\\displaystyle\\frac{2}{3}$, chúng ta sẽ không tìm thấy nhiều hơn 3L điểm dữ liệu như vậy. Điều này hoàn thành bằng chứng.\n"
      ],
      "metadata": {
        "id": "uRrLzY8edfS8"
      }
    },
    {
      "cell_type": "markdown",
      "metadata": {
        "id": "5OvZieKCyUe5"
      },
      "source": [
        "**a)**\n",
        "\n",
        "Trước hết, chúng ta xác định các tập hợp Wj và T như đã đề cập trong câu hỏi. Đối với mỗi hàm băm gj, tập hợp Wj chứa tất cả các điểm dữ liệu mà ánh xạ đến cùng một giá trị như điểm truy vấn z, và tập hợp T chứa tất cả các điểm dữ liệu cách z hơn cλ. Chúng ta muốn chứng minh rằng xác suất tìm thấy nhiều hơn 3L điểm dữ liệu trong phần giao giữa T và mỗi Wj là nhỏ.\n",
        "\n",
        "Giải pháp đã cho cung cấp một giới hạn trên kích thước kỳ vọng của sự giao giữa T và mỗi Wj. Cụ thể, đối với mỗi j, chúng ta có:\n",
        "\n",
        "Pr[x∈TTWj]≤pk2=1/n,\n",
        "\n",
        "Điều đó có nghĩa là xác suất một điểm dữ liệu bất kỳ x nằm cùng trong T và Wj không quá 1/n. Do đó, chúng ta có thể viết:\n",
        "\n",
        "E[|T ∩ Wj|] = ∑x∈A Pr[x∈T ∩ Wj] ≤ ∑x∈A Pr[x∈T] Pr[x∈Wj] ≤ pk2 = 1/n.\n",
        "\n",
        "Sử dụng tính tuyến tính của kỳ vọng, chúng ta có:\n",
        " \n",
        "E[∑j=1LE[PLj=1 |T ∩ Wj|]] ≤ LE[|T ∩ Wj|] ≤ L/n.\n",
        "\n",
        "Bây giờ, chúng ta có thể áp dụng bất đẳng thức Markov để có được:\n",
        "\n",
        "\n",
        "Pr[∑j=1L|T ∩ Wj| > 3L] ≤ E[∑j=1L|T ∩ Wj|]/3L ≤ 1/3.\n",
        "\n",
        "\n",
        "Do đó, xác suất tìm thấy nhiều hơn 3L điểm dữ liệu trong phần giao giữa T và mỗi Wj không quá 1/3, điều đó có nghĩa là với xác suất ít nhất là 2/3, chúng ta sẽ không tìm thấy nhiều hơn 3L điểm dữ liệu như vậy. Điều này hoàn thành bằng chứng.\n",
        "\n"
      ]
    },
    {
      "cell_type": "markdown",
      "source": [],
      "metadata": {
        "id": "A-a4GDT4dd0b"
      }
    },
    {
      "cell_type": "markdown",
      "metadata": {
        "id": "jWzDG8x3ym6K"
      },
      "source": [
        "**b)**\n",
        "\n",
        "Để chứng minh: Pr [∀ 1 ≤ j ≤ L, gj($x^{*}$\n",
        ") ≠ gj(z)] < $\\displaystyle\\frac{1}{e}$\n",
        "\n",
        "Trong đó $x^{*}$\n",
        " là một điểm trong A sao cho d($x^{*}$, z) ≤ λ.\n",
        "\n",
        "Để làm được điều này, ta có thể bắt đầu bằng việc sử dụng sự thật rằng đối với bất kỳ 1 ≤ j ≤ L nào, ta có:\n",
        "\n",
        "Pr[gj($x^{*}$) = gj(z)] ≥ pk1\n",
        "\n",
        "Trong đó pk1 là xác suất rằng gj($x^{*}$) = gj(z), được định nghĩa trong câu hỏi.\n",
        "\n",
        "Ta có thể sử dụng bất đẳng thức trên để thu được một giới hạn trên cho xác suất rằng gj($x^{*}$) ≠ gj(z), như sau:\n",
        "\n",
        "Pr[gj($x^{*}$) ≠ gj(z)] ≤ 1 - Pr[gj($x^{*}$) = gj(z)] \n",
        "\n",
        "≤ 1 - pk1\n",
        "\n",
        "= 1 - $p^{\\displaystyle\\frac{log1}{p2(n)}}$) _ 1 (thay thế pk1 bằng định nghĩa của nó) \n",
        "\n",
        "= 1 - $(\\displaystyle\\frac{1}{n})^{\\displaystyle\\frac{log1}{p2(n)}}$\n",
        "\n",
        "= 1 - $(\\displaystyle\\frac{1}{n})^{p}$\n",
        " (với ρ = log($\\displaystyle\\frac{1}{p1}$) / log($\\displaystyle\\frac{1}{p2}$))\n",
        "\n",
        "= 1 - $\\displaystyle\\frac{1}{L}$\n",
        "\n",
        "= $\\displaystyle\\frac{(L-1)}{L}$\n",
        "\n",
        "trong đó ta đã sử dụng thực tế rằng k = $\\displaystyle\\frac{log1}{p2(n)}$, do đó L = $n^{p}$.\n",
        "\n",
        "Tiếp theo, ta có thể sử dụng bất đẳng thức trên để thu được một giới hạn trên cho xác suất rằng tất cả các gj đều thỏa mãn gj($x^{*}$) ≠ gj(z), như sau:\n",
        "\n",
        "Pr [∀ 1 ≤ j ≤ L, gj($x^{*}$) ≠ gj(z)] \n",
        "\n",
        "≤ ∏_{j=1}^L Pr[gj($x^{*}$) ≠ gj(z)] (sử dụng kết hợp liên minh) \n",
        "\n",
        "≤ $(\\displaystyle\\frac{L-1}{L})^{L}$ \n",
        "\n",
        "≤ $e^{-1}$\n",
        "\n",
        "Trong đó ta đã sử dụng thực tế rằng (1 - $\\displaystyle\\frac{1}{L})^{L}$ ≤ $\\displaystyle\\frac{1}{e}$ cho bất kỳ số nguyên dương L nào.\n",
        "\n",
        "Do đó, ta đã chứng minh được rằng:\n",
        "\n",
        "Pr [∀ 1 ≤ j ≤ L, gj($x^{*}$) ≠ gj(z)] < $\\displaystyle\\frac{1}{e}$"
      ]
    },
    {
      "cell_type": "markdown",
      "metadata": {
        "id": "yDLuirivy56Q"
      },
      "source": [
        "**c)**\n",
        "\n",
        "\n",
        "Để kết luận rằng với xác suất lớn hơn một hằng số cố định thì điểm được báo cáo là một (c, λ)-ANN thực sự, chúng ta cần chỉ ra rằng xác suất thất bại được giới hạn bởi một hằng số. Điều này có thể thực hiện bằng cách kết hợp kết quả từ phần (a) và phần (b).\n",
        "\n",
        "Giả sử $x^{*}$ là hàng xóm gần nhất thực sự với điểm truy vấn z với khoảng cách d ($x^{*}$, z) ≤ λ. Từ phần (b), chúng ta biết rằng với xác suất ít nhất là 1 - $\\displaystyle\\frac{1}{e}$, $x^{*}$ được băm vào ít nhất một trong L thùng mà điểm truy vấn băm vào, tức là tồn tại một hàm băm gj sao cho gj ($x^{*}$) = gj (z).\n",
        "Bây giờ, hãy để Wj là tập hợp các điểm dữ liệu được ánh xạ đến cùng một thùng như điểm truy vấn z bằng cách sử dụng hàm băm gj, như được định nghĩa trong phần (a). Hãy để T là tập hợp các điểm dữ liệu cách điểm truy vấn xa hơn cλ. Từ phần (a), chúng ta biết rằng xác suất của ít nhất 3L điểm dữ liệu nằm trong phần giao của T và Wj cho một số j nhỏ hơn hoặc bằng $\\displaystyle\\frac{1}{3}$.\n",
        "Giả sử rằng $x^{*}$ được băm vào ít nhất một trong L thùng mà điểm truy vấn băm vào, chúng ta cần xem xét hai trường hợp:\n",
        "Trường hợp 1: $x^{*}$ không nằm trong phần giao của T và bất kỳ Wj nào. Trong trường hợp này, thuật toán sẽ trả về $x^{*}$, đó là hàng xóm gần nhất thực sự với điểm truy vấn với khoảng cách d ($x^{*}$, z) ≤ λ.\n",
        "Trường hợp 2: $x^{*}$ nằm trong phần giao của T và một số Wj. Trong trường hợp này, thuật toán có thể trả về một điểm không phải là hàng xóm gần nhất thực sự với điểm truy vấn. Tuy nhiên, xác suất của việc này có thể được giới hạn như sau:\n",
        "Giả sử Yj là biến chỉ mục có giá trị bằng 1 nếu có ít nhất 3 điểm dữ liệu nằm trong giao của T và Wj, và bằng 0 nếu không. Khi đó, xác suất thất bại của thuật toán có thể được biểu diễn như sau:\n",
        "Pr[thuật toán thất bại] = Pr[$x^{*}$ nằm trong giao của T và một số Wj] × Pr[thuật toán chọn một điểm không phải $x^{*}$ từ giao này]\n",
        "Sử dụng bất đẳng thức liên hợp và kết quả từ phần (a), ta có:\n",
        "Pr[$x^{*}$ nằm trong giao của T và một số Wj] ≤ Σj Pr[Yj = 1] ≤ Σj Pr[3L điểm dữ liệu nằm trong T và Wj] ≤ L($\\displaystyle\\frac{1}{3}$) = ρlog($\\displaystyle\\frac{1}{p1}$)\n",
        "Ở đây, bất đẳng thức cuối cùng được suy ra từ định nghĩa của ρ trong thủ tục.\n",
        "Giờ đây, giả sử Zj là biến chỉ mục có giá trị bằng 1 nếu thuật toán chọn một điểm không phải $x^{*}$ từ giao của T và Wj, và bằng 0 nếu không. Khi đó, xác suất chọn một điểm không phải $x^{*}$ từ giao của T và Wj có thể được biểu diễn như sau:\n",
        "Pr[thuật toán chọn một điểm không phải $x^{*}$ từ giao này] = Σj Pr[Zj = 1]\n",
        "Vì các điểm dữ liệu được chọn đồng đều ngẫu nhiên từ giao của T và Wj, nên xác suất chọn một điểm không phải $x^{*}$ bị chặn dưới bởi (|T ∩ Wj| - 1) / |T ∩ Wj|. Do đó, ta có:\n",
        "Pr[Zj = 1] ≤ (|T ∩ Wj| - 1) / |T ∩ Wj| ≤ 1 - 1/|T ∩ Wj|\n",
        "Sử dụng bất đẳng thức liên hợp một lần nữa, ta có:\n",
        "Pr[thuật toán thất bại] ≤ Pr[$x^{*}$ nằm trong giao của T và một số Wj] × Pr[thuật toán chọn một điểm không phải $x^{*}$ từ giao này]\n",
        "\n"
      ]
    },
    {
      "cell_type": "markdown",
      "source": [
        "**câu d**"
      ],
      "metadata": {
        "id": "I7jZ0LsHePwz"
      }
    },
    {
      "cell_type": "code",
      "source": [
        "#Liên kết Drive\n",
        "from google.colab import drive\n",
        "drive.mount('/content/drive')"
      ],
      "metadata": {
        "colab": {
          "base_uri": "https://localhost:8080/"
        },
        "id": "Keszvhv6Gwnq",
        "outputId": "290c2ed7-e89b-40c7-9346-c8829438fa48"
      },
      "execution_count": null,
      "outputs": [
        {
          "output_type": "stream",
          "name": "stdout",
          "text": [
            "Drive already mounted at /content/drive; to attempt to forcibly remount, call drive.mount(\"/content/drive\", force_remount=True).\n"
          ]
        }
      ]
    },
    {
      "cell_type": "code",
      "source": [
        "\n",
        "import numpy as np\n",
        "#import random\n",
        "import time\n",
        "#import pdb\n",
        "import unittest\n",
        "from PIL import Image\n",
        "\n",
        "#tìm khoảng cách L1 giữa 2 vector\n",
        "#u,v là các np.array 1 chiều\n",
        "def l1(u, v):\n",
        "    return  np.abs(u-v).sum()\n",
        "#nạp dữ liệu vào mảng\n",
        "def load_data(filename):\n",
        "    return np.genfromtxt(filename, delimiter=',')\n",
        "# tạo hàm băm từ danh sách kích thước chiều và ngưỡng\n",
        "def create_function(dimensions, thresholds):\n",
        "    def f(v):\n",
        "        boolarray = [v[dimensions[i]] >= thresholds[i] for i in range(len(dimensions))]\n",
        "        return \"\".join(map(str, map(int, boolarray)))\n",
        "    return f\n",
        "\n",
        "def create_functions(k, L, num_dimensions=400, min_threshold=0, max_threshold=255):\n",
        "    functions = []\n",
        "    for i in range(L):\n",
        "        dimensions = np.random.randint(low = 0, \n",
        "                                   high = num_dimensions,\n",
        "                                   size = k)\n",
        "        thresholds = np.random.randint(low = min_threshold, \n",
        "                                   high = max_threshold + 1, \n",
        "                                   size = k)\n",
        "\n",
        "        functions.append(create_function(dimensions, thresholds))\n",
        "    return functions\n",
        "\n",
        "def hash_vector(functions, v):\n",
        "    return np.array([f(v) for f in functions])\n",
        "\n",
        "def hash_data(functions, A):\n",
        "    return np.array(list(map(lambda v: hash_vector(functions, v), A)))\n",
        "\n",
        "def get_candidates(hashed_A, hashed_point, query_index):\n",
        "    return filter(lambda i: i != query_index and \\\n",
        "        any(hashed_point == hashed_A[i]), range(len(hashed_A)))\n",
        "\n",
        "def lsh_setup(A, k = 24, L = 10):\n",
        "    functions = create_functions(k = k, L = L)\n",
        "    hashed_A = hash_data(functions, A)\n",
        "    return (functions, hashed_A)\n",
        "\n",
        "def lsh_search(A, hashed_A, functions, query_index, num_neighbors = 10):\n",
        "    hashed_point = hash_vector(functions, A[query_index, :])\n",
        "    candidate_row_nums = get_candidates(hashed_A, hashed_point, query_index)\n",
        "    \n",
        "    distances = map(lambda r: (r, l1(A[r], A[query_index])), candidate_row_nums)\n",
        "    best_neighbors = sorted(distances, key=lambda t: t[1])[:num_neighbors]\n",
        "\n",
        "    return [t[0] for t in best_neighbors]\n",
        "\n",
        "def plot(A, row_nums, base_filename):\n",
        "    for row_num in row_nums:\n",
        "        patch = np.reshape(A[row_num, :], [20, 20])\n",
        "        im = Image.fromarray(patch)\n",
        "        if im.mode != 'RGB':\n",
        "            im = im.convert('RGB')\n",
        "        im.save(base_filename + \"-\" + str(row_num) + \".png\")\n",
        "\n",
        "def linear_search(A, query_index, num_neighbors):\n",
        "    distances=  ( (r, l1(A[r], A[query_index])) for r in   range(len(A))  if r != query_index )\n",
        "    best_neighbors = sorted(distances, key=lambda t: t[1])[:num_neighbors]\n",
        "    \n",
        "    return [t[0] for t in best_neighbors]\n",
        "    \n",
        "     #TODO\n",
        "\n",
        "from functools import reduce\n",
        "def measure_error(A,query_index,lsh_result: np.ndarray,linear_result:np.ndarray):\n",
        "    def sub_measure(result): \n",
        "        return reduce(lambda a,b: a+b,\n",
        "                      map(lambda r:  l1(A[r],A[query_index]),result),0. )\n",
        "    return sub_measure(lsh_result)/sub_measure(linear_result)"
      ],
      "metadata": {
        "id": "iMWxe7HyG1T6"
      },
      "execution_count": null,
      "outputs": []
    },
    {
      "cell_type": "code",
      "source": [
        "from matplotlib import pyplot as plt\n",
        "\n",
        "def plot_error_change(file_path):   \n",
        "    A= load_data(file_path)\n",
        "    def geterror(k=24,L =10):\n",
        "        error =0.\n",
        "        functions, hashed_A = lsh_setup(A, k = k, L = L)\n",
        "        for query_index in range(100,1100,100):\n",
        "            lsh_result =  lsh_search(A, hashed_A, functions, query_index, num_neighbors = 3)\n",
        "            linear_result =  linear_search( A,query_index,num_neighbors=3)\n",
        "            error += measure_error(A,query_index,lsh_result,linear_result)\n",
        "        return error/10\n",
        "    \n",
        "    \n",
        "    x_L= range(10,22,2)\n",
        "    x_K= range(16,26,2)\n",
        "    y_L= [ geterror(L=l)  for l in x_L ]\n",
        "    y_K= [geterror(k=k)  for k in x_K  ]\n",
        "    plt.subplot(2,1,1)\n",
        "    plt.title('K=24')\n",
        "    plt.xlabel(\"L\")\n",
        "    plt.ylabel(\"error\")\n",
        "    plt.plot(x_L,y_L)\n",
        "    \n",
        "    plt.subplot(2,1,2)\n",
        "    plt.title('L=10')\n",
        "    plt.xlabel(\"K\")\n",
        "    plt.ylabel(\"error\")\n",
        "    plt.plot(x_K,y_K)\n",
        "    plt.show()\n",
        "    return (y_L,y_K)"
      ],
      "metadata": {
        "id": "Xz5RK3VYG2lb"
      },
      "execution_count": null,
      "outputs": []
    },
    {
      "cell_type": "code",
      "source": [
        "# TODO: Solve Problem 4\n",
        "def problem4():\n",
        "    y_L ,y_K  =  plot_error_change ('/content/drive/MyDrive/bigdata/Data/patches.csv')\n",
        "    A= load_data('/content/drive/MyDrive/bigdata/Data/patches.csv') #please change this url to your folder which contains patches.csv file\n",
        "    functions, hashed_A = lsh_setup(A)\n",
        "    query_index= 100\n",
        "    lsh_result =  lsh_search(A, hashed_A, functions, query_index, num_neighbors = 10)\n",
        "    linear_result =  linear_search( A,query_index,num_neighbors=10)\n",
        "    plot(A,lsh_result,'LSH')\n",
        "    plot(A,linear_result,'LINEAR')  \n",
        "    plot(A,[100],'RAW')\n",
        "\n",
        "    return  y_L ,y_K"
      ],
      "metadata": {
        "id": "WDCwAHzjG-Dj"
      },
      "execution_count": null,
      "outputs": []
    },
    {
      "cell_type": "code",
      "source": [
        "problem4()"
      ],
      "metadata": {
        "colab": {
          "base_uri": "https://localhost:8080/",
          "height": 491
        },
        "id": "xQm-TDwMG-uy",
        "outputId": "ce148409-6c5c-454e-e5ca-a07d4053b75f"
      },
      "execution_count": null,
      "outputs": [
        {
          "output_type": "display_data",
          "data": {
            "text/plain": [
              "<Figure size 432x288 with 2 Axes>"
            ],
            "image/png": "[encoded data removed]"
          },
          "metadata": {
            "needs_background": "light"
          }
        },
        {
          "output_type": "execute_result",
          "data": {
            "text/plain": [
              "([1.0229792786838685,\n",
              "  1.0128665818201066,\n",
              "  1.0241840360633165,\n",
              "  1.0185060073687162,\n",
              "  1.018022755730564,\n",
              "  1.0037080215151337],\n",
              " [1.010327898616743,\n",
              "  1.0221166906900812,\n",
              "  1.0041797021437895,\n",
              "  1.0014553976404688,\n",
              "  1.0053805386471786])"
            ]
          },
          "metadata": {},
          "execution_count": 10
        }
      ]
    }
  ],
  "metadata": {
    "colab": {
      "provenance": [],
      "toc_visible": true,
      "include_colab_link": true
    },
    "kernelspec": {
      "display_name": "Python 3",
      "name": "python3"
    },
    "language_info": {
      "name": "python"
    }
  },
  "nbformat": 4,
  "nbformat_minor": 0
}